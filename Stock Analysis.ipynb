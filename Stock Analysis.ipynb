{
 "cells": [
  {
   "cell_type": "markdown",
   "metadata": {},
   "source": [
    "# Introduction\n",
    "The purpose of this project is to conduct some simple stock data manipulation, data visualisation and analysis in Python.\n",
    "\n",
    "To start with, historical stock prices are extracted from pandas web-data reader Yahoo Finance and pandas. Using this data, we can conduct some starting calculations to understand individual and peer relative stock behaviour.\n",
    "The analysis includes moving average, stock returns, risk, covariance and correlation.  \n",
    "\n",
    "The security of focus for this project is Zoetis, and its US peer Eily Lilly and Company.  Zoetis is the world's largest producer of medicine and vaccinations for pets and livestock.  A subsidiary of Pfizer (83% interest of the firm), Zoetis is now an independent company and a member of the S&P 500 index.\n",
    "\n"
   ]
  },
  {
   "cell_type": "markdown",
   "metadata": {},
   "source": [
    "# Import Python packages\n",
    "\n",
    "\n"
   ]
  },
  {
   "cell_type": "code",
   "execution_count": 102,
   "metadata": {},
   "outputs": [],
   "source": [
    "import numpy as np\n",
    "import pandas as pd\n",
    "from pandas_datareader import data as wb\n",
    "import matplotlib.pyplot as plt\n"
   ]
  },
  {
   "cell_type": "markdown",
   "metadata": {},
   "source": [
    "# Pull  Zoetis stock data\n"
   ]
  },
  {
   "cell_type": "code",
   "execution_count": 103,
   "metadata": {},
   "outputs": [],
   "source": [
    "ZTS=wb.DataReader('ZTS',data_source='yahoo', start='2013-2-1')"
   ]
  },
  {
   "cell_type": "code",
   "execution_count": 104,
   "metadata": {},
   "outputs": [
    {
     "data": {
      "text/html": [
       "<div>\n",
       "<style scoped>\n",
       "    .dataframe tbody tr th:only-of-type {\n",
       "        vertical-align: middle;\n",
       "    }\n",
       "\n",
       "    .dataframe tbody tr th {\n",
       "        vertical-align: top;\n",
       "    }\n",
       "\n",
       "    .dataframe thead th {\n",
       "        text-align: right;\n",
       "    }\n",
       "</style>\n",
       "<table border=\"1\" class=\"dataframe\">\n",
       "  <thead>\n",
       "    <tr style=\"text-align: right;\">\n",
       "      <th></th>\n",
       "      <th>High</th>\n",
       "      <th>Low</th>\n",
       "      <th>Open</th>\n",
       "      <th>Close</th>\n",
       "      <th>Volume</th>\n",
       "      <th>Adj Close</th>\n",
       "    </tr>\n",
       "    <tr>\n",
       "      <th>Date</th>\n",
       "      <th></th>\n",
       "      <th></th>\n",
       "      <th></th>\n",
       "      <th></th>\n",
       "      <th></th>\n",
       "      <th></th>\n",
       "    </tr>\n",
       "  </thead>\n",
       "  <tbody>\n",
       "    <tr>\n",
       "      <td>2013-02-01</td>\n",
       "      <td>31.74</td>\n",
       "      <td>30.469999</td>\n",
       "      <td>31.50</td>\n",
       "      <td>31.010000</td>\n",
       "      <td>66789100.0</td>\n",
       "      <td>29.255459</td>\n",
       "    </tr>\n",
       "    <tr>\n",
       "      <td>2013-02-04</td>\n",
       "      <td>31.99</td>\n",
       "      <td>30.760000</td>\n",
       "      <td>31.09</td>\n",
       "      <td>31.020000</td>\n",
       "      <td>7695400.0</td>\n",
       "      <td>29.264904</td>\n",
       "    </tr>\n",
       "    <tr>\n",
       "      <td>2013-02-05</td>\n",
       "      <td>31.98</td>\n",
       "      <td>30.850000</td>\n",
       "      <td>31.25</td>\n",
       "      <td>31.040001</td>\n",
       "      <td>5013200.0</td>\n",
       "      <td>29.283766</td>\n",
       "    </tr>\n",
       "    <tr>\n",
       "      <td>2013-02-06</td>\n",
       "      <td>31.43</td>\n",
       "      <td>30.750000</td>\n",
       "      <td>30.98</td>\n",
       "      <td>31.030001</td>\n",
       "      <td>2126100.0</td>\n",
       "      <td>29.274336</td>\n",
       "    </tr>\n",
       "    <tr>\n",
       "      <td>2013-02-07</td>\n",
       "      <td>32.73</td>\n",
       "      <td>31.000000</td>\n",
       "      <td>31.00</td>\n",
       "      <td>32.000000</td>\n",
       "      <td>3800800.0</td>\n",
       "      <td>30.189455</td>\n",
       "    </tr>\n",
       "  </tbody>\n",
       "</table>\n",
       "</div>"
      ],
      "text/plain": [
       "             High        Low   Open      Close      Volume  Adj Close\n",
       "Date                                                                 \n",
       "2013-02-01  31.74  30.469999  31.50  31.010000  66789100.0  29.255459\n",
       "2013-02-04  31.99  30.760000  31.09  31.020000   7695400.0  29.264904\n",
       "2013-02-05  31.98  30.850000  31.25  31.040001   5013200.0  29.283766\n",
       "2013-02-06  31.43  30.750000  30.98  31.030001   2126100.0  29.274336\n",
       "2013-02-07  32.73  31.000000  31.00  32.000000   3800800.0  30.189455"
      ]
     },
     "execution_count": 104,
     "metadata": {},
     "output_type": "execute_result"
    }
   ],
   "source": [
    "ZTS.head()"
   ]
  },
  {
   "cell_type": "code",
   "execution_count": 105,
   "metadata": {},
   "outputs": [
    {
     "data": {
      "text/html": [
       "<div>\n",
       "<style scoped>\n",
       "    .dataframe tbody tr th:only-of-type {\n",
       "        vertical-align: middle;\n",
       "    }\n",
       "\n",
       "    .dataframe tbody tr th {\n",
       "        vertical-align: top;\n",
       "    }\n",
       "\n",
       "    .dataframe thead th {\n",
       "        text-align: right;\n",
       "    }\n",
       "</style>\n",
       "<table border=\"1\" class=\"dataframe\">\n",
       "  <thead>\n",
       "    <tr style=\"text-align: right;\">\n",
       "      <th></th>\n",
       "      <th>High</th>\n",
       "      <th>Low</th>\n",
       "      <th>Open</th>\n",
       "      <th>Close</th>\n",
       "      <th>Volume</th>\n",
       "      <th>Adj Close</th>\n",
       "    </tr>\n",
       "    <tr>\n",
       "      <th>Date</th>\n",
       "      <th></th>\n",
       "      <th></th>\n",
       "      <th></th>\n",
       "      <th></th>\n",
       "      <th></th>\n",
       "      <th></th>\n",
       "    </tr>\n",
       "  </thead>\n",
       "  <tbody>\n",
       "    <tr>\n",
       "      <td>2020-12-31</td>\n",
       "      <td>165.679993</td>\n",
       "      <td>163.229996</td>\n",
       "      <td>164.500000</td>\n",
       "      <td>165.500000</td>\n",
       "      <td>1292600.0</td>\n",
       "      <td>165.500000</td>\n",
       "    </tr>\n",
       "    <tr>\n",
       "      <td>2021-01-04</td>\n",
       "      <td>166.240005</td>\n",
       "      <td>160.720001</td>\n",
       "      <td>166.000000</td>\n",
       "      <td>163.589996</td>\n",
       "      <td>1805900.0</td>\n",
       "      <td>163.589996</td>\n",
       "    </tr>\n",
       "    <tr>\n",
       "      <td>2021-01-05</td>\n",
       "      <td>165.289993</td>\n",
       "      <td>162.500000</td>\n",
       "      <td>163.149994</td>\n",
       "      <td>164.729996</td>\n",
       "      <td>1358600.0</td>\n",
       "      <td>164.729996</td>\n",
       "    </tr>\n",
       "    <tr>\n",
       "      <td>2021-01-06</td>\n",
       "      <td>167.910004</td>\n",
       "      <td>162.669998</td>\n",
       "      <td>162.919998</td>\n",
       "      <td>167.149994</td>\n",
       "      <td>2139800.0</td>\n",
       "      <td>167.149994</td>\n",
       "    </tr>\n",
       "    <tr>\n",
       "      <td>2021-01-07</td>\n",
       "      <td>168.750000</td>\n",
       "      <td>166.699997</td>\n",
       "      <td>167.449997</td>\n",
       "      <td>167.000000</td>\n",
       "      <td>1710157.0</td>\n",
       "      <td>167.000000</td>\n",
       "    </tr>\n",
       "  </tbody>\n",
       "</table>\n",
       "</div>"
      ],
      "text/plain": [
       "                  High         Low        Open       Close     Volume  \\\n",
       "Date                                                                    \n",
       "2020-12-31  165.679993  163.229996  164.500000  165.500000  1292600.0   \n",
       "2021-01-04  166.240005  160.720001  166.000000  163.589996  1805900.0   \n",
       "2021-01-05  165.289993  162.500000  163.149994  164.729996  1358600.0   \n",
       "2021-01-06  167.910004  162.669998  162.919998  167.149994  2139800.0   \n",
       "2021-01-07  168.750000  166.699997  167.449997  167.000000  1710157.0   \n",
       "\n",
       "             Adj Close  \n",
       "Date                    \n",
       "2020-12-31  165.500000  \n",
       "2021-01-04  163.589996  \n",
       "2021-01-05  164.729996  \n",
       "2021-01-06  167.149994  \n",
       "2021-01-07  167.000000  "
      ]
     },
     "execution_count": 105,
     "metadata": {},
     "output_type": "execute_result"
    }
   ],
   "source": [
    "ZTS.tail()"
   ]
  },
  {
   "cell_type": "markdown",
   "metadata": {},
   "source": [
    "# Rolling mean (moving average)\n",
    "Moving average is a simple tool of technical analysis which smooths out price data by creating a 'constantly updated' average price.\n",
    "\n",
    "This helps to eliminate any 'noise' and shows the general trend of the price data over time.\n",
    "\n",
    "We use adjusted closing price data for prices, which is the closing stock price adjusted for dividend payments and stock splits.\n"
   ]
  },
  {
   "cell_type": "code",
   "execution_count": 106,
   "metadata": {},
   "outputs": [
    {
     "data": {
      "text/plain": [
       "Date\n",
       "2013-02-01           NaN\n",
       "2013-02-04           NaN\n",
       "2013-02-05           NaN\n",
       "2013-02-06           NaN\n",
       "2013-02-07           NaN\n",
       "                 ...    \n",
       "2020-12-31    161.459876\n",
       "2021-01-04    161.528438\n",
       "2021-01-05    161.584130\n",
       "2021-01-06    161.668916\n",
       "2021-01-07    161.770380\n",
       "Name: Adj Close, Length: 1998, dtype: float64"
      ]
     },
     "execution_count": 106,
     "metadata": {},
     "output_type": "execute_result"
    }
   ],
   "source": [
    "closing_price=ZTS['Adj Close']\n",
    "moving_average= closing_price.rolling(window=100).mean()\n",
    "moving_average\n",
    "#this will calculate MA for last 100 days of stock's closing price and take the average for each of the window's MA."
   ]
  },
  {
   "cell_type": "markdown",
   "metadata": {},
   "source": [
    "# Moving average with stock price \n",
    "Plot adjusted closing price alongside moving average in a chart.\n"
   ]
  },
  {
   "cell_type": "code",
   "execution_count": 107,
   "metadata": {},
   "outputs": [],
   "source": [
    "#import matplotlib libraries\n",
    "%matplotlib inline\n",
    "import matplotlib.pyplot as plt\n",
    "from matplotlib import style\n"
   ]
  },
  {
   "cell_type": "code",
   "execution_count": 108,
   "metadata": {},
   "outputs": [
    {
     "data": {
      "text/plain": [
       "<matplotlib.legend.Legend at 0x1db328e1e88>"
      ]
     },
     "execution_count": 108,
     "metadata": {},
     "output_type": "execute_result"
    },
    {
     "data": {
      "image/png": "[encoded data removed]",
      "text/plain": [
       "<Figure size 576x360 with 1 Axes>"
      ]
     },
     "metadata": {
      "needs_background": "light"
     },
     "output_type": "display_data"
    }
   ],
   "source": [
    "#plot graph and add labels and title\n",
    "closing_price.plot(label='ZTS', figsize=(8,5))\n",
    "moving_average.plot(label='Moving Average')\n",
    "plt.xlabel('Year')\n",
    "plt.ylabel('Price')\n",
    "plt.title('Zoetis Moving Average with Stock Price')\n",
    "plt.legend()"
   ]
  },
  {
   "cell_type": "markdown",
   "metadata": {},
   "source": [
    "In the chart above, the moving average displays an increasing trend in Zoetis' stock price.\n"
   ]
  },
  {
   "cell_type": "markdown",
   "metadata": {},
   "source": [
    "# Simple rate of return calculation\n",
    "Percentage increase/decrease in stock price from the previous period."
   ]
  },
  {
   "cell_type": "code",
   "execution_count": 109,
   "metadata": {},
   "outputs": [
    {
     "name": "stdout",
     "output_type": "stream",
     "text": [
      "Date\n",
      "2013-02-01         NaN\n",
      "2013-02-04    0.000323\n",
      "2013-02-05    0.000645\n",
      "2013-02-06   -0.000322\n",
      "2013-02-07    0.031260\n",
      "                ...   \n",
      "2020-12-31    0.007488\n",
      "2021-01-04   -0.011541\n",
      "2021-01-05    0.006969\n",
      "2021-01-06    0.014691\n",
      "2021-01-07   -0.000897\n",
      "Name: simple return, Length: 1998, dtype: float64\n"
     ]
    }
   ],
   "source": [
    "#use 'shift' function to indicate number of lags of variable\n",
    "ZTS['simple return']=(ZTS['Adj Close']/ZTS['Adj Close'].shift(1))-1\n",
    "print(ZTS['simple return'])"
   ]
  },
  {
   "cell_type": "code",
   "execution_count": 110,
   "metadata": {},
   "outputs": [
    {
     "data": {
      "image/png": "[encoded data removed]",
      "text/plain": [
       "<Figure size 576x360 with 1 Axes>"
      ]
     },
     "metadata": {
      "needs_background": "light"
     },
     "output_type": "display_data"
    }
   ],
   "source": [
    "ZTS['simple return'].plot(figsize=(8,5))\n",
    "plt.xlabel('Year')\n",
    "plt.ylabel('Percent Change in Daily Returns')\n",
    "plt.title('Zoetis Daily Returns (since inception)')\n",
    "plt.show()"
   ]
  },
  {
   "cell_type": "code",
   "execution_count": 111,
   "metadata": {},
   "outputs": [
    {
     "data": {
      "text/plain": [
       "0.0009979399832249266"
      ]
     },
     "execution_count": 111,
     "metadata": {},
     "output_type": "execute_result"
    }
   ],
   "source": [
    "#use 'mean' function to calculate average daily return\n",
    "average_daily_return= ZTS['simple return'].mean()\n",
    "average_daily_return\n"
   ]
  },
  {
   "cell_type": "code",
   "execution_count": 112,
   "metadata": {},
   "outputs": [
    {
     "data": {
      "text/plain": [
       "0.24948499580623165"
      ]
     },
     "execution_count": 112,
     "metadata": {},
     "output_type": "execute_result"
    }
   ],
   "source": [
    "#an average annual return will tell us more than a daily return.\n",
    "#number of trading days (excluding weekends and bank holidays ) is approx 250\n",
    "average_annual_return=ZTS['simple return'].mean()*250\n",
    "average_annual_return\n"
   ]
  },
  {
   "cell_type": "code",
   "execution_count": 113,
   "metadata": {},
   "outputs": [
    {
     "name": "stdout",
     "output_type": "stream",
     "text": [
      "The annual average return for Zoetis is 24.948 %\n"
     ]
    }
   ],
   "source": [
    "#make this presentable - round this value to 3 d.p & add percentage sign\n",
    "print(\"The annual average return for Zoetis is\", round(average_annual_return,5)*100,\"%\")\n",
    "\n"
   ]
  },
  {
   "cell_type": "markdown",
   "metadata": {},
   "source": [
    "# Calculating the risk of a security\n",
    "\n",
    "Load the data from Yahoo Finance as before and save in a data frame object called security_data.\n",
    "\n",
    "Here, we are extracting data for Zoetis and its US peer Eli Lilly and Company.\n",
    "\n",
    "\n"
   ]
  },
  {
   "cell_type": "code",
   "execution_count": 114,
   "metadata": {},
   "outputs": [],
   "source": [
    "tickers=['ZTS','LLY']\n",
    "\n",
    "security_data=pd.DataFrame()\n",
    "\n",
    "for t in tickers:\n",
    "    security_data[t]=wb.DataReader(t, data_source='yahoo', start='2013-2-1')['Adj Close']\n",
    "    "
   ]
  },
  {
   "cell_type": "code",
   "execution_count": 115,
   "metadata": {},
   "outputs": [
    {
     "data": {
      "text/html": [
       "<div>\n",
       "<style scoped>\n",
       "    .dataframe tbody tr th:only-of-type {\n",
       "        vertical-align: middle;\n",
       "    }\n",
       "\n",
       "    .dataframe tbody tr th {\n",
       "        vertical-align: top;\n",
       "    }\n",
       "\n",
       "    .dataframe thead th {\n",
       "        text-align: right;\n",
       "    }\n",
       "</style>\n",
       "<table border=\"1\" class=\"dataframe\">\n",
       "  <thead>\n",
       "    <tr style=\"text-align: right;\">\n",
       "      <th></th>\n",
       "      <th>ZTS</th>\n",
       "      <th>LLY</th>\n",
       "    </tr>\n",
       "    <tr>\n",
       "      <th>Date</th>\n",
       "      <th></th>\n",
       "      <th></th>\n",
       "    </tr>\n",
       "  </thead>\n",
       "  <tbody>\n",
       "    <tr>\n",
       "      <td>2020-12-31</td>\n",
       "      <td>165.500000</td>\n",
       "      <td>168.839996</td>\n",
       "    </tr>\n",
       "    <tr>\n",
       "      <td>2021-01-04</td>\n",
       "      <td>163.589996</td>\n",
       "      <td>165.500000</td>\n",
       "    </tr>\n",
       "    <tr>\n",
       "      <td>2021-01-05</td>\n",
       "      <td>164.729996</td>\n",
       "      <td>166.320007</td>\n",
       "    </tr>\n",
       "    <tr>\n",
       "      <td>2021-01-06</td>\n",
       "      <td>167.149994</td>\n",
       "      <td>164.320007</td>\n",
       "    </tr>\n",
       "    <tr>\n",
       "      <td>2021-01-07</td>\n",
       "      <td>167.000000</td>\n",
       "      <td>165.830002</td>\n",
       "    </tr>\n",
       "  </tbody>\n",
       "</table>\n",
       "</div>"
      ],
      "text/plain": [
       "                   ZTS         LLY\n",
       "Date                              \n",
       "2020-12-31  165.500000  168.839996\n",
       "2021-01-04  163.589996  165.500000\n",
       "2021-01-05  164.729996  166.320007\n",
       "2021-01-06  167.149994  164.320007\n",
       "2021-01-07  167.000000  165.830002"
      ]
     },
     "execution_count": 115,
     "metadata": {},
     "output_type": "execute_result"
    }
   ],
   "source": [
    "security_data.tail()"
   ]
  },
  {
   "cell_type": "markdown",
   "metadata": {},
   "source": [
    "The standard deviation of stock returns is one way to calculate the risk of a security. \n",
    "\n",
    "Stock returns with large deviations from the mean are said to be more volatile.\n",
    "\n",
    "First, we will create a separate table for security returns.\n"
   ]
  },
  {
   "cell_type": "code",
   "execution_count": 116,
   "metadata": {},
   "outputs": [
    {
     "data": {
      "text/html": [
       "<div>\n",
       "<style scoped>\n",
       "    .dataframe tbody tr th:only-of-type {\n",
       "        vertical-align: middle;\n",
       "    }\n",
       "\n",
       "    .dataframe tbody tr th {\n",
       "        vertical-align: top;\n",
       "    }\n",
       "\n",
       "    .dataframe thead th {\n",
       "        text-align: right;\n",
       "    }\n",
       "</style>\n",
       "<table border=\"1\" class=\"dataframe\">\n",
       "  <thead>\n",
       "    <tr style=\"text-align: right;\">\n",
       "      <th></th>\n",
       "      <th>ZTS</th>\n",
       "      <th>LLY</th>\n",
       "    </tr>\n",
       "    <tr>\n",
       "      <th>Date</th>\n",
       "      <th></th>\n",
       "      <th></th>\n",
       "    </tr>\n",
       "  </thead>\n",
       "  <tbody>\n",
       "    <tr>\n",
       "      <td>2013-02-01</td>\n",
       "      <td>NaN</td>\n",
       "      <td>NaN</td>\n",
       "    </tr>\n",
       "    <tr>\n",
       "      <td>2013-02-04</td>\n",
       "      <td>0.000323</td>\n",
       "      <td>-0.012065</td>\n",
       "    </tr>\n",
       "    <tr>\n",
       "      <td>2013-02-05</td>\n",
       "      <td>0.000644</td>\n",
       "      <td>0.010218</td>\n",
       "    </tr>\n",
       "    <tr>\n",
       "      <td>2013-02-06</td>\n",
       "      <td>-0.000322</td>\n",
       "      <td>-0.003147</td>\n",
       "    </tr>\n",
       "    <tr>\n",
       "      <td>2013-02-07</td>\n",
       "      <td>0.030781</td>\n",
       "      <td>-0.002785</td>\n",
       "    </tr>\n",
       "    <tr>\n",
       "      <td>...</td>\n",
       "      <td>...</td>\n",
       "      <td>...</td>\n",
       "    </tr>\n",
       "    <tr>\n",
       "      <td>2020-12-31</td>\n",
       "      <td>0.007460</td>\n",
       "      <td>0.010898</td>\n",
       "    </tr>\n",
       "    <tr>\n",
       "      <td>2021-01-04</td>\n",
       "      <td>-0.011608</td>\n",
       "      <td>-0.019980</td>\n",
       "    </tr>\n",
       "    <tr>\n",
       "      <td>2021-01-05</td>\n",
       "      <td>0.006944</td>\n",
       "      <td>0.004942</td>\n",
       "    </tr>\n",
       "    <tr>\n",
       "      <td>2021-01-06</td>\n",
       "      <td>0.014584</td>\n",
       "      <td>-0.012098</td>\n",
       "    </tr>\n",
       "    <tr>\n",
       "      <td>2021-01-07</td>\n",
       "      <td>-0.000898</td>\n",
       "      <td>0.009147</td>\n",
       "    </tr>\n",
       "  </tbody>\n",
       "</table>\n",
       "<p>1998 rows × 2 columns</p>\n",
       "</div>"
      ],
      "text/plain": [
       "                 ZTS       LLY\n",
       "Date                          \n",
       "2013-02-01       NaN       NaN\n",
       "2013-02-04  0.000323 -0.012065\n",
       "2013-02-05  0.000644  0.010218\n",
       "2013-02-06 -0.000322 -0.003147\n",
       "2013-02-07  0.030781 -0.002785\n",
       "...              ...       ...\n",
       "2020-12-31  0.007460  0.010898\n",
       "2021-01-04 -0.011608 -0.019980\n",
       "2021-01-05  0.006944  0.004942\n",
       "2021-01-06  0.014584 -0.012098\n",
       "2021-01-07 -0.000898  0.009147\n",
       "\n",
       "[1998 rows x 2 columns]"
      ]
     },
     "execution_count": 116,
     "metadata": {},
     "output_type": "execute_result"
    }
   ],
   "source": [
    "#taking log returns here as we will examine each company separately to understand behaviour of individual stock\n",
    "security_returns=np.log(security_data/security_data.shift(1))\n",
    "security_returns\n"
   ]
  },
  {
   "cell_type": "markdown",
   "metadata": {},
   "source": [
    "# Risk and Return Comparisons\n"
   ]
  },
  {
   "cell_type": "code",
   "execution_count": 117,
   "metadata": {},
   "outputs": [
    {
     "data": {
      "text/plain": [
       "ZTS    0.000872\n",
       "LLY    0.000671\n",
       "dtype: float64"
      ]
     },
     "execution_count": 117,
     "metadata": {},
     "output_type": "execute_result"
    }
   ],
   "source": [
    "#average daily return\n",
    "security_returns[['ZTS', 'LLY']].mean()"
   ]
  },
  {
   "cell_type": "code",
   "execution_count": 118,
   "metadata": {},
   "outputs": [
    {
     "data": {
      "text/plain": [
       "ZTS    0.218068\n",
       "LLY    0.167730\n",
       "dtype: float64"
      ]
     },
     "execution_count": 118,
     "metadata": {},
     "output_type": "execute_result"
    }
   ],
   "source": [
    "#average annual return\n",
    "security_returns[['ZTS', 'LLY']].mean()*250"
   ]
  },
  {
   "cell_type": "code",
   "execution_count": 119,
   "metadata": {},
   "outputs": [
    {
     "data": {
      "text/plain": [
       "ZTS    0.015837\n",
       "LLY    0.015468\n",
       "dtype: float64"
      ]
     },
     "execution_count": 119,
     "metadata": {},
     "output_type": "execute_result"
    }
   ],
   "source": [
    "#standard deviation\n",
    "security_returns[['ZTS', 'LLY']].std()"
   ]
  },
  {
   "cell_type": "code",
   "execution_count": 120,
   "metadata": {},
   "outputs": [
    {
     "data": {
      "text/plain": [
       "ZTS    0.250402\n",
       "LLY    0.244577\n",
       "dtype: float64"
      ]
     },
     "execution_count": 120,
     "metadata": {},
     "output_type": "execute_result"
    }
   ],
   "source": [
    "#to annualise, also raise to power of 0.5 as stdev is square root of variance.\n",
    "security_returns[['ZTS', 'LLY']].std()*250**0.5"
   ]
  },
  {
   "cell_type": "markdown",
   "metadata": {},
   "source": [
    "The results above fall in line with theoretical predictions - stocks with higher expected returns often incur more risk.\n",
    "\n",
    "Zoetis' annual average return is slightly higher than Eli Lilly, however this comes at the expense of higher volatility."
   ]
  },
  {
   "cell_type": "markdown",
   "metadata": {},
   "source": [
    "# Covariance and Correlation\n",
    "\n",
    "Construct a covariance matrix with variance of stock returns along the leading diagonal.\n"
   ]
  },
  {
   "cell_type": "code",
   "execution_count": 121,
   "metadata": {},
   "outputs": [
    {
     "data": {
      "text/html": [
       "<div>\n",
       "<style scoped>\n",
       "    .dataframe tbody tr th:only-of-type {\n",
       "        vertical-align: middle;\n",
       "    }\n",
       "\n",
       "    .dataframe tbody tr th {\n",
       "        vertical-align: top;\n",
       "    }\n",
       "\n",
       "    .dataframe thead th {\n",
       "        text-align: right;\n",
       "    }\n",
       "</style>\n",
       "<table border=\"1\" class=\"dataframe\">\n",
       "  <thead>\n",
       "    <tr style=\"text-align: right;\">\n",
       "      <th></th>\n",
       "      <th>ZTS</th>\n",
       "      <th>LLY</th>\n",
       "    </tr>\n",
       "  </thead>\n",
       "  <tbody>\n",
       "    <tr>\n",
       "      <td>ZTS</td>\n",
       "      <td>0.000251</td>\n",
       "      <td>0.000111</td>\n",
       "    </tr>\n",
       "    <tr>\n",
       "      <td>LLY</td>\n",
       "      <td>0.000111</td>\n",
       "      <td>0.000239</td>\n",
       "    </tr>\n",
       "  </tbody>\n",
       "</table>\n",
       "</div>"
      ],
      "text/plain": [
       "          ZTS       LLY\n",
       "ZTS  0.000251  0.000111\n",
       "LLY  0.000111  0.000239"
      ]
     },
     "execution_count": 121,
     "metadata": {},
     "output_type": "execute_result"
    }
   ],
   "source": [
    "covariance_matrix=security_returns.cov()\n",
    "covariance_matrix\n"
   ]
  },
  {
   "cell_type": "code",
   "execution_count": 122,
   "metadata": {},
   "outputs": [
    {
     "data": {
      "text/html": [
       "<div>\n",
       "<style scoped>\n",
       "    .dataframe tbody tr th:only-of-type {\n",
       "        vertical-align: middle;\n",
       "    }\n",
       "\n",
       "    .dataframe tbody tr th {\n",
       "        vertical-align: top;\n",
       "    }\n",
       "\n",
       "    .dataframe thead th {\n",
       "        text-align: right;\n",
       "    }\n",
       "</style>\n",
       "<table border=\"1\" class=\"dataframe\">\n",
       "  <thead>\n",
       "    <tr style=\"text-align: right;\">\n",
       "      <th></th>\n",
       "      <th>ZTS</th>\n",
       "      <th>LLY</th>\n",
       "    </tr>\n",
       "  </thead>\n",
       "  <tbody>\n",
       "    <tr>\n",
       "      <td>ZTS</td>\n",
       "      <td>0.062701</td>\n",
       "      <td>0.027710</td>\n",
       "    </tr>\n",
       "    <tr>\n",
       "      <td>LLY</td>\n",
       "      <td>0.027710</td>\n",
       "      <td>0.059818</td>\n",
       "    </tr>\n",
       "  </tbody>\n",
       "</table>\n",
       "</div>"
      ],
      "text/plain": [
       "          ZTS       LLY\n",
       "ZTS  0.062701  0.027710\n",
       "LLY  0.027710  0.059818"
      ]
     },
     "execution_count": 122,
     "metadata": {},
     "output_type": "execute_result"
    }
   ],
   "source": [
    "#annualised covariance\n",
    "covariance_matrix_a=security_returns.cov()*250\n",
    "covariance_matrix_a\n"
   ]
  },
  {
   "cell_type": "markdown",
   "metadata": {},
   "source": [
    "Construct a correlation matrix using 'corr' function.\n"
   ]
  },
  {
   "cell_type": "code",
   "execution_count": 123,
   "metadata": {},
   "outputs": [
    {
     "data": {
      "text/html": [
       "<div>\n",
       "<style scoped>\n",
       "    .dataframe tbody tr th:only-of-type {\n",
       "        vertical-align: middle;\n",
       "    }\n",
       "\n",
       "    .dataframe tbody tr th {\n",
       "        vertical-align: top;\n",
       "    }\n",
       "\n",
       "    .dataframe thead th {\n",
       "        text-align: right;\n",
       "    }\n",
       "</style>\n",
       "<table border=\"1\" class=\"dataframe\">\n",
       "  <thead>\n",
       "    <tr style=\"text-align: right;\">\n",
       "      <th></th>\n",
       "      <th>ZTS</th>\n",
       "      <th>LLY</th>\n",
       "    </tr>\n",
       "  </thead>\n",
       "  <tbody>\n",
       "    <tr>\n",
       "      <td>ZTS</td>\n",
       "      <td>1.000000</td>\n",
       "      <td>0.452472</td>\n",
       "    </tr>\n",
       "    <tr>\n",
       "      <td>LLY</td>\n",
       "      <td>0.452472</td>\n",
       "      <td>1.000000</td>\n",
       "    </tr>\n",
       "  </tbody>\n",
       "</table>\n",
       "</div>"
      ],
      "text/plain": [
       "          ZTS       LLY\n",
       "ZTS  1.000000  0.452472\n",
       "LLY  0.452472  1.000000"
      ]
     },
     "execution_count": 123,
     "metadata": {},
     "output_type": "execute_result"
    }
   ],
   "source": [
    "correlation_matrix=security_returns.corr()\n",
    "correlation_matrix\n",
    "#no need to annualise correlation matrix since 'corr' just illustrates magnitude of association between two stock returns."
   ]
  },
  {
   "cell_type": "markdown",
   "metadata": {},
   "source": [
    "Weak correlation 0f 0.45 between returns of Zoetis and Eli Lilly."
   ]
  }
 ],
 "metadata": {
  "kernelspec": {
   "display_name": "Python 3",
   "language": "python",
   "name": "python3"
  },
  "language_info": {
   "codemirror_mode": {
    "name": "ipython",
    "version": 3
   },
   "file_extension": ".py",
   "mimetype": "text/x-python",
   "name": "python",
   "nbconvert_exporter": "python",
   "pygments_lexer": "ipython3",
   "version": "3.7.4"
  }
 },
 "nbformat": 4,
 "nbformat_minor": 2
}
